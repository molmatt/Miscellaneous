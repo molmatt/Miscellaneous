{
 "cells": [
  {
   "cell_type": "markdown",
   "metadata": {},
   "source": [
    "# Two Examples of Scraping and Chat Bot Creation\n",
    "This notebook details the scraping and creation of two chat bots. Please be kind to the websites used in here and do not excessively burden them by running the scraping cells repeatedly. Especially for iteratively accessing websites. The Prager University scraping is slightly more complex, while the Frankenstein scraping is straightforward. In both cases, making chat bots are easy with markovify, and while they lack the complexity of certain recurrent neural network bots, they end up providing relatively coherent and entertaining sentences."
   ]
  },
  {
   "cell_type": "code",
   "execution_count": 1,
   "metadata": {},
   "outputs": [],
   "source": [
    "from bs4 import BeautifulSoup\n",
    "import requests as rq\n",
    "import time\n",
    "import pandas as pd\n",
    "from datetime import datetime\n",
    "import markovify as mk"
   ]
  },
  {
   "cell_type": "markdown",
   "metadata": {},
   "source": [
    "## Prager University Chat Bot\n",
    "This will be a chat bot created from the transcripts of all of the available Prager University. This will take two steps:\n",
    "1. Scraping of Prager University's Website\n",
    "2. Building Markov Chain Chat Bot\n",
    "\n",
    "### Scraping Prager University's Website\n",
    "This stage is comprised of two steps\n",
    "1. Gather URLs for each video\n",
    "2. Scrape relevant data for each video\n",
    "\n",
    "#### Gather URLs for each video"
   ]
  },
  {
   "cell_type": "code",
   "execution_count": 2,
   "metadata": {},
   "outputs": [
    {
     "data": {
      "text/plain": [
       "[<div class=\"video-thumbnail\">\n",
       " <a href=\"/videos/where-are-you-martin-luther-king\"><img height=\"212\" src=\"https://www.prageru.com/sites/default/files/styles/16x9_small/public/courses/image/rileyjason_martinlutherkingjr_thumbnail_1280x720.png?itok=qB0xzr0R\" width=\"380\"/></a> </div>,\n",
       " <div class=\"video-thumbnail\">\n",
       " <a href=\"/videos/what-does-diversity-have-do-science\"><img height=\"212\" src=\"https://www.prageru.com/sites/default/files/styles/16x9_small/public/courses/image/thumbnail_macdonaldheather_whatdoesdiversity_1280x720.png?itok=TAnF4zK4\" width=\"380\"/></a> </div>,\n",
       " <div class=\"video-thumbnail\">\n",
       " <a href=\"/videos/wwi-war-changed-everything\"><img height=\"212\" src=\"https://www.prageru.com/sites/default/files/styles/16x9_small/public/courses/image/robertsandrew_wwi_website.png?itok=9wFpxFoi\" width=\"380\"/></a> </div>,\n",
       " <div class=\"video-thumbnail\">\n",
       " <a href=\"/videos/how-reformation-shaped-your-world\"><img height=\"212\" src=\"https://www.prageru.com/sites/default/files/styles/16x9_small/public/courses/image/5minvideo_thumbnails_cornilssteve_howthereformationshapedyourworld_1280x720.png?itok=pEqu3_7l\" width=\"380\"/></a> </div>]"
      ]
     },
     "execution_count": 2,
     "metadata": {},
     "output_type": "execute_result"
    }
   ],
   "source": [
    "vidSelPage = rq.get(\"https://www.prageru.com/5-minute-videos\") # Getting homepage data\n",
    "vidSelSoup = BeautifulSoup(vidSelPage.content, 'html.parser') # Parsing homepage data\n",
    "vidThumb = vidSelSoup.find_all('div', class_='video-thumbnail') # Isolating data with video thumbnail links\n",
    "vidThumb[0:4]"
   ]
  },
  {
   "cell_type": "code",
   "execution_count": 3,
   "metadata": {},
   "outputs": [
    {
     "data": {
      "text/plain": [
       "['/videos/where-are-you-martin-luther-king',\n",
       " '/videos/what-does-diversity-have-do-science',\n",
       " '/videos/wwi-war-changed-everything',\n",
       " '/videos/how-reformation-shaped-your-world']"
      ]
     },
     "execution_count": 3,
     "metadata": {},
     "output_type": "execute_result"
    }
   ],
   "source": [
    "vidLinks = [i.select('a')[0].attrs['href'] for i in vidThumb] # Grabbing just the video thumbnail links\n",
    "vidLinks[0:4]"
   ]
  },
  {
   "cell_type": "code",
   "execution_count": 4,
   "metadata": {},
   "outputs": [
    {
     "data": {
      "text/plain": [
       "['https://www.prageru.com/videos/where-are-you-martin-luther-king',\n",
       " 'https://www.prageru.com/videos/what-does-diversity-have-do-science',\n",
       " 'https://www.prageru.com/videos/wwi-war-changed-everything',\n",
       " 'https://www.prageru.com/videos/how-reformation-shaped-your-world']"
      ]
     },
     "execution_count": 4,
     "metadata": {},
     "output_type": "execute_result"
    }
   ],
   "source": [
    "vidBase = 'https://www.prageru.com' # Creating thumbnail base\n",
    "vidUrls = [vidBase+i for i in vidLinks] # Combining base and extension\n",
    "vidUrls[0:4]"
   ]
  },
  {
   "cell_type": "markdown",
   "metadata": {},
   "source": [
    "Now we have the URL for each video and can go to the next stage of scraping\n",
    "#### Scrape relevant data for each video\n",
    "For making a chatbot I will only need the transcripts but I'll pull together some accompanying data in case I want to look at other stuff at a later date. So I will grab the title, date, presenter, views, and transcript for each video and compil it into a pandas dataframe."
   ]
  },
  {
   "cell_type": "code",
   "execution_count": 5,
   "metadata": {},
   "outputs": [],
   "source": [
    "title = [] # Making empty list to store titles\n",
    "date = [] # Making empty list to store dates\n",
    "presenter = [] # Making empty list to store presenters\n",
    "views = [] # Making empty list to store views\n",
    "transcripts = [] # Making empty list to store video transcripts\n",
    "for i in vidUrls: # looping over each URL\n",
    "    a = rq.get(i) # Downloading video web page\n",
    "    b = BeautifulSoup(a.content, 'html.parser') # Parsing video web page\n",
    "    title.append(b.find('h1', class_='video-title h4').get_text()) # Gathering title\n",
    "    date.append(' '.join(b.find('div', class_='date').get_text().split())) # Gathering date\n",
    "    presenter.append(' '.join(b.find('div', class_='presenter').get_text().split())) # Gathering presenter\n",
    "    views.append(' '.join(b.find('div', class_='view-count').get_text().split())) # Gathering views\n",
    "    c = b.find('div', class_=\"transcript reveal-single-target\") # Gathering transcript paragraphs\n",
    "    tmpList = [] # Creating empty list to store each paragraph\n",
    "    for j in c.select('p'): # interating over each paragraph\n",
    "        d = j.get_text() # Storing text in variable d\n",
    "        e = ' '.join(d.split()) # Cleaning up extra spaces\n",
    "        tmpList.append(e) # Compiling each paragraph into list\n",
    "    transcripts.append(tmpList) # Storing transcripts as list of lists\n",
    "    time.sleep(1) # Waiting a second to be respectful of not overloading website"
   ]
  },
  {
   "cell_type": "code",
   "execution_count": 6,
   "metadata": {},
   "outputs": [],
   "source": [
    "transcript = [' '.join(i) for i in transcripts] # Collapsing lists of lists into paragraph per video"
   ]
  },
  {
   "cell_type": "code",
   "execution_count": 7,
   "metadata": {},
   "outputs": [
    {
     "data": {
      "text/html": [
       "<div>\n",
       "<style scoped>\n",
       "    .dataframe tbody tr th:only-of-type {\n",
       "        vertical-align: middle;\n",
       "    }\n",
       "\n",
       "    .dataframe tbody tr th {\n",
       "        vertical-align: top;\n",
       "    }\n",
       "\n",
       "    .dataframe thead th {\n",
       "        text-align: right;\n",
       "    }\n",
       "</style>\n",
       "<table border=\"1\" class=\"dataframe\">\n",
       "  <thead>\n",
       "    <tr style=\"text-align: right;\">\n",
       "      <th></th>\n",
       "      <th>title</th>\n",
       "      <th>date</th>\n",
       "      <th>presenter</th>\n",
       "      <th>views</th>\n",
       "      <th>transcript</th>\n",
       "    </tr>\n",
       "  </thead>\n",
       "  <tbody>\n",
       "    <tr>\n",
       "      <th>0</th>\n",
       "      <td>Where Are You, Martin Luther King?</td>\n",
       "      <td>Jan 14, 2019</td>\n",
       "      <td>Jason Riley</td>\n",
       "      <td>1,406,116 Views</td>\n",
       "      <td>It’s been 50 years since Dr. Martin Luther Kin...</td>\n",
       "    </tr>\n",
       "    <tr>\n",
       "      <th>1</th>\n",
       "      <td>What Does Diversity Have to Do with Science?</td>\n",
       "      <td>Jan 7, 2019</td>\n",
       "      <td>Heather Mac Donald</td>\n",
       "      <td>2,708,398 Views</td>\n",
       "      <td>The promoters of identity politics—the idea th...</td>\n",
       "    </tr>\n",
       "    <tr>\n",
       "      <th>2</th>\n",
       "      <td>WWI: The War That Changed Everything</td>\n",
       "      <td>Dec 31, 2018</td>\n",
       "      <td>Andrew Roberts</td>\n",
       "      <td>3,154,425 Views</td>\n",
       "      <td>As an historian, I’m often asked if I could st...</td>\n",
       "    </tr>\n",
       "    <tr>\n",
       "      <th>3</th>\n",
       "      <td>How the Reformation Shaped Your World</td>\n",
       "      <td>Dec 24, 2018</td>\n",
       "      <td>Stephen Cornils</td>\n",
       "      <td>2,197,363 Views</td>\n",
       "      <td>Five hundred years ago, on October 31, 1517, a...</td>\n",
       "    </tr>\n",
       "    <tr>\n",
       "      <th>4</th>\n",
       "      <td>Why You Should Be a Nationalist</td>\n",
       "      <td>Dec 17, 2018</td>\n",
       "      <td>Yoram Hazony</td>\n",
       "      <td>2,803,954 Views</td>\n",
       "      <td>Britain votes to leave the European Union. The...</td>\n",
       "    </tr>\n",
       "  </tbody>\n",
       "</table>\n",
       "</div>"
      ],
      "text/plain": [
       "                                          title          date  \\\n",
       "0            Where Are You, Martin Luther King?  Jan 14, 2019   \n",
       "1  What Does Diversity Have to Do with Science?   Jan 7, 2019   \n",
       "2          WWI: The War That Changed Everything  Dec 31, 2018   \n",
       "3         How the Reformation Shaped Your World  Dec 24, 2018   \n",
       "4               Why You Should Be a Nationalist  Dec 17, 2018   \n",
       "\n",
       "            presenter            views  \\\n",
       "0         Jason Riley  1,406,116 Views   \n",
       "1  Heather Mac Donald  2,708,398 Views   \n",
       "2      Andrew Roberts  3,154,425 Views   \n",
       "3     Stephen Cornils  2,197,363 Views   \n",
       "4        Yoram Hazony  2,803,954 Views   \n",
       "\n",
       "                                          transcript  \n",
       "0  It’s been 50 years since Dr. Martin Luther Kin...  \n",
       "1  The promoters of identity politics—the idea th...  \n",
       "2  As an historian, I’m often asked if I could st...  \n",
       "3  Five hundred years ago, on October 31, 1517, a...  \n",
       "4  Britain votes to leave the European Union. The...  "
      ]
     },
     "execution_count": 7,
     "metadata": {},
     "output_type": "execute_result"
    }
   ],
   "source": [
    "pragerU = pd.DataFrame({ # Compiling lists into pandas DataFrame\n",
    "    'title': title,\n",
    "    'date': date,\n",
    "    'presenter': presenter,\n",
    "    'views': views,\n",
    "    'transcript': transcript\n",
    "})\n",
    "pragerU.head()"
   ]
  },
  {
   "cell_type": "code",
   "execution_count": 8,
   "metadata": {},
   "outputs": [],
   "source": [
    "pragerU['date'] = [datetime.strptime(i, '%b %d, %Y') for i in pragerU['date']] # Putting date into datatime format"
   ]
  },
  {
   "cell_type": "code",
   "execution_count": 9,
   "metadata": {},
   "outputs": [
    {
     "name": "stderr",
     "output_type": "stream",
     "text": [
      "c:\\users\\mattm\\anaconda3\\lib\\site-packages\\ipykernel_launcher.py:13: SettingWithCopyWarning: \n",
      "A value is trying to be set on a copy of a slice from a DataFrame\n",
      "\n",
      "See the caveats in the documentation: http://pandas.pydata.org/pandas-docs/stable/indexing.html#indexing-view-versus-copy\n",
      "  del sys.path[0]\n"
     ]
    }
   ],
   "source": [
    "# Getting views into integer format\n",
    "x = 0 # Making iteratable count\n",
    "for i in pragerU['views']: # iterating over every observation in views\n",
    "    a = i.replace(' Views', '') # removing the ' Views' text\n",
    "    if 'M' in a: # handling views in the millions\n",
    "        b = float(a.split('M')[0])\n",
    "        c = b*1000000\n",
    "    elif 'K' in a: # handling views in the thousands\n",
    "        b = float(a.split('K')[0])\n",
    "        c = b*1000\n",
    "    else: # handling videos without alphabetic notation\n",
    "        c = float(''.join(a.split(',')))\n",
    "    pragerU['views'][x] = c # assigning cleaned observation over current\n",
    "    x+=1 # Increasing iterator for proper indexing on next loop"
   ]
  },
  {
   "cell_type": "code",
   "execution_count": 10,
   "metadata": {},
   "outputs": [
    {
     "data": {
      "text/html": [
       "<div>\n",
       "<style scoped>\n",
       "    .dataframe tbody tr th:only-of-type {\n",
       "        vertical-align: middle;\n",
       "    }\n",
       "\n",
       "    .dataframe tbody tr th {\n",
       "        vertical-align: top;\n",
       "    }\n",
       "\n",
       "    .dataframe thead th {\n",
       "        text-align: right;\n",
       "    }\n",
       "</style>\n",
       "<table border=\"1\" class=\"dataframe\">\n",
       "  <thead>\n",
       "    <tr style=\"text-align: right;\">\n",
       "      <th></th>\n",
       "      <th>title</th>\n",
       "      <th>date</th>\n",
       "      <th>presenter</th>\n",
       "      <th>views</th>\n",
       "      <th>transcript</th>\n",
       "    </tr>\n",
       "  </thead>\n",
       "  <tbody>\n",
       "    <tr>\n",
       "      <th>0</th>\n",
       "      <td>Where Are You, Martin Luther King?</td>\n",
       "      <td>2019-01-14</td>\n",
       "      <td>Jason Riley</td>\n",
       "      <td>1.40612e+06</td>\n",
       "      <td>It’s been 50 years since Dr. Martin Luther Kin...</td>\n",
       "    </tr>\n",
       "    <tr>\n",
       "      <th>1</th>\n",
       "      <td>What Does Diversity Have to Do with Science?</td>\n",
       "      <td>2019-01-07</td>\n",
       "      <td>Heather Mac Donald</td>\n",
       "      <td>2.7084e+06</td>\n",
       "      <td>The promoters of identity politics—the idea th...</td>\n",
       "    </tr>\n",
       "    <tr>\n",
       "      <th>2</th>\n",
       "      <td>WWI: The War That Changed Everything</td>\n",
       "      <td>2018-12-31</td>\n",
       "      <td>Andrew Roberts</td>\n",
       "      <td>3.15442e+06</td>\n",
       "      <td>As an historian, I’m often asked if I could st...</td>\n",
       "    </tr>\n",
       "    <tr>\n",
       "      <th>3</th>\n",
       "      <td>How the Reformation Shaped Your World</td>\n",
       "      <td>2018-12-24</td>\n",
       "      <td>Stephen Cornils</td>\n",
       "      <td>2.19736e+06</td>\n",
       "      <td>Five hundred years ago, on October 31, 1517, a...</td>\n",
       "    </tr>\n",
       "    <tr>\n",
       "      <th>4</th>\n",
       "      <td>Why You Should Be a Nationalist</td>\n",
       "      <td>2018-12-17</td>\n",
       "      <td>Yoram Hazony</td>\n",
       "      <td>2.80395e+06</td>\n",
       "      <td>Britain votes to leave the European Union. The...</td>\n",
       "    </tr>\n",
       "  </tbody>\n",
       "</table>\n",
       "</div>"
      ],
      "text/plain": [
       "                                          title       date  \\\n",
       "0            Where Are You, Martin Luther King? 2019-01-14   \n",
       "1  What Does Diversity Have to Do with Science? 2019-01-07   \n",
       "2          WWI: The War That Changed Everything 2018-12-31   \n",
       "3         How the Reformation Shaped Your World 2018-12-24   \n",
       "4               Why You Should Be a Nationalist 2018-12-17   \n",
       "\n",
       "            presenter        views  \\\n",
       "0         Jason Riley  1.40612e+06   \n",
       "1  Heather Mac Donald   2.7084e+06   \n",
       "2      Andrew Roberts  3.15442e+06   \n",
       "3     Stephen Cornils  2.19736e+06   \n",
       "4        Yoram Hazony  2.80395e+06   \n",
       "\n",
       "                                          transcript  \n",
       "0  It’s been 50 years since Dr. Martin Luther Kin...  \n",
       "1  The promoters of identity politics—the idea th...  \n",
       "2  As an historian, I’m often asked if I could st...  \n",
       "3  Five hundred years ago, on October 31, 1517, a...  \n",
       "4  Britain votes to leave the European Union. The...  "
      ]
     },
     "execution_count": 10,
     "metadata": {},
     "output_type": "execute_result"
    }
   ],
   "source": [
    "pragerU.head()"
   ]
  },
  {
   "cell_type": "markdown",
   "metadata": {},
   "source": [
    "### Making Markov Chain Chat Bot\n",
    "This part (like with most machine learning) is actually the easy bit. This will comprise of two short stages\n",
    "1. Generating chat bot\n",
    "2. Generating sentences form chat bot\n",
    "\n",
    "#### Generating chat bot\n",
    "Here I chose a state size (the number of words before that should be considered when deciding on next word) to be 4, which appears to be the best balance between sentence coherency and freedom to create new sentences without them being identical to those in the corpus, But I think this will depend mostly on the size and variability of your corpus if you're doing this on other data."
   ]
  },
  {
   "cell_type": "code",
   "execution_count": 11,
   "metadata": {},
   "outputs": [],
   "source": [
    "pUbot = mk.Text(pragerU.transcript, state_size=4)"
   ]
  },
  {
   "cell_type": "markdown",
   "metadata": {},
   "source": [
    "#### Generating sentences from chat bot\n",
    "Here I chose 20 short sentences of no more than 100 characters at a time, but could have chosen anything really. Feel free to play around with a few different methods here. This will generate a different set of sentences for each time the cell is run. I believe 'None's occur if the sentence was going to be too similar to other sentences in the corpus, but don't quote me."
   ]
  },
  {
   "cell_type": "code",
   "execution_count": 12,
   "metadata": {},
   "outputs": [
    {
     "name": "stdout",
     "output_type": "stream",
     "text": [
      "And by the end of the war.\n",
      "None\n",
      "None\n",
      "None\n",
      "Notice equality is not part of the American way of life.\n",
      "None\n",
      "In other words, we are either created in the image of God and therefore infinitely valuable.\n",
      "The printing press allowed, for the first time in the history of public health.\n",
      "None\n",
      "None\n",
      "That is why figuring out how to make good people is the hardest part of any employer’s job.\n",
      "None\n",
      "You come off as one of the great chapters in the history of public health.\n",
      "One of the most misunderstood clauses in the United States who, like me, have special needs.\n",
      "Rather than let the free market heal itself.\n",
      "One reason, I've discovered, is that many people don’t know what progressivity is.\n",
      "In the autumn of 1863—at the height of the Civil War, the slave population had grown to 4 million.\n",
      "In fact, a strong case can be made for both sides of the argument.\n",
      "Because many people don't want to believe that the citizens of the city could still kill the child.\n",
      "I’m Paul Kengor, Professor of Political Science at the City College of New York.\n"
     ]
    }
   ],
   "source": [
    "for i in range(20):\n",
    "    print(pUbot.make_short_sentence(100))"
   ]
  },
  {
   "cell_type": "code",
   "execution_count": 13,
   "metadata": {},
   "outputs": [],
   "source": [
    "pragerU.to_csv(\"pragerU.csv\") # Saving dataset so I won't have to scrape to access later"
   ]
  },
  {
   "cell_type": "markdown",
   "metadata": {},
   "source": [
    "## Frankenstein Chat Bot\n",
    "This bot creation also required two steps:\n",
    "1. Scraping Frankenstein Text\n",
    "2. Making Markov Chain Chat Bot\n",
    "\n",
    "As you will see, the scraping process for Frankenstein was far simpler, because it was all on one page and already in an amenable format.\n",
    "### Scraping Frankenstein Text"
   ]
  },
  {
   "cell_type": "code",
   "execution_count": 14,
   "metadata": {},
   "outputs": [],
   "source": [
    "# Accessing and parsing frankenstein text from url below\n",
    "frankSoup = BeautifulSoup(rq.get('https://www.gutenberg.org/files/84/84-h/84-h.htm').content, 'html.parser')"
   ]
  },
  {
   "cell_type": "code",
   "execution_count": 15,
   "metadata": {},
   "outputs": [
    {
     "data": {
      "text/plain": [
       "[<p>\n",
       " Well, these are useless complaints; I shall certainly find no friend on the\n",
       " wide ocean, nor even here in Archangel, among merchants and seamen. Yet\n",
       " some feelings, unallied to the dross of human nature, beat even in these\n",
       " rugged bosoms. My lieutenant, for instance, is a man of wonderful courage\n",
       " and enterprise; he is madly desirous of glory, or rather, to word my phrase\n",
       " more characteristically, of advancement in his profession. He is an\n",
       " Englishman, and in the midst of national and professional prejudices,\n",
       " unsoftened by cultivation, retains some of the noblest endowments of\n",
       " humanity. I first became acquainted with him on board a whale vessel;\n",
       " finding that he was unemployed in this city, I easily engaged him to assist\n",
       " in my enterprise.\n",
       " </p>, <p>\n",
       " The master is a person of an excellent disposition and is remarkable in the\n",
       " ship for his gentleness and the mildness of his discipline. This\n",
       " circumstance, added to his well-known integrity and dauntless courage, made\n",
       " me very desirous to engage him. A youth passed in solitude, my best years\n",
       " spent under your gentle and feminine fosterage, has so refined the\n",
       " groundwork of my character that I cannot overcome an intense distaste to\n",
       " the usual brutality exercised on board ship: I have never believed it to be\n",
       " necessary, and when I heard of a mariner equally noted for his kindliness\n",
       " of heart and the respect and obedience paid to him by his crew, I felt\n",
       " myself peculiarly fortunate in being able to secure his services. I heard\n",
       " of him first in rather a romantic manner, from a lady who owes to him the\n",
       " happiness of her life. This, briefly, is his story. Some years ago he loved\n",
       " a young Russian lady of moderate fortune, and having amassed a considerable\n",
       " sum in prize-money, the father of the girl consented to the match. He saw\n",
       " his mistress once before the destined ceremony; but she was bathed in\n",
       " tears, and throwing herself at his feet, entreated him to spare her,\n",
       " confessing at the same time that she loved another, but that he was poor,\n",
       " and that her father would never consent to the union. My generous friend\n",
       " reassured the suppliant, and on being informed of the name of her lover,\n",
       " instantly abandoned his pursuit. He had already bought a farm with his\n",
       " money, on which he had designed to pass the remainder of his life; but he\n",
       " bestowed the whole on his rival, together with the remains of his\n",
       " prize-money to purchase stock, and then himself solicited the young\n",
       " woman’s father to consent to her marriage with her lover. But the old\n",
       " man decidedly refused, thinking himself bound in honour to my friend, who,\n",
       " when he found the father inexorable, quitted his country, nor returned\n",
       " until he heard that his former mistress was married according to her\n",
       " inclinations. “What a noble fellow!” you will exclaim. He is\n",
       " so; but then he is wholly uneducated: he is as silent as a Turk, and a kind\n",
       " of ignorant carelessness attends him, which, while it renders his conduct\n",
       " the more astonishing, detracts from the interest and sympathy which\n",
       " otherwise he would command.\n",
       " </p>, <p>\n",
       " Yet do not suppose, because I complain a little or because I can\n",
       " conceive a consolation for my toils which I may never know, that I am\n",
       " wavering in my resolutions.  Those are as fixed as fate, and my voyage\n",
       " is only now delayed until the weather shall permit my embarkation.  The\n",
       " winter has been dreadfully severe, but the spring promises well, and it\n",
       " is considered as a remarkably early season, so that perhaps I may sail\n",
       " sooner than I expected.  I shall do nothing rashly:  you know me\n",
       " sufficiently to confide in my prudence and considerateness whenever the\n",
       " safety of others is committed to my care.\n",
       " </p>]"
      ]
     },
     "execution_count": 15,
     "metadata": {},
     "output_type": "execute_result"
    }
   ],
   "source": [
    "# Isolating all text located within paragraph tags\n",
    "frankList = frankSoup.find_all('p')\n",
    "frankList[25:28]"
   ]
  },
  {
   "cell_type": "code",
   "execution_count": 16,
   "metadata": {},
   "outputs": [],
   "source": [
    "# Cleaning up text\n",
    "frankText = [] # Making empty list for storing text\n",
    "for i in frankList: # Iterating over each paragraph tag\n",
    "    if len(i.get_text()) > 100: # Ignoring any paragraph with less than 100 characters\n",
    "        frankText.append(\n",
    "            i.get_text().replace('\\r\\n',' ').replace('\\\\\"','').replace('\\\\“','').replace('\\\\”', '')) \n",
    "        # removing all line breaks, and various forms of quotation marks"
   ]
  },
  {
   "cell_type": "markdown",
   "metadata": {},
   "source": [
    "### Making Markov Chain Chat Bot\n",
    "Once again this stage will be comprised of two steps:\n",
    "1. Generating chat bot\n",
    "2. Generating sentences from chat bot\n",
    "\n",
    "#### Generating chat bot"
   ]
  },
  {
   "cell_type": "code",
   "execution_count": 17,
   "metadata": {},
   "outputs": [],
   "source": [
    "frankBot = mk.Text(frankText, state_size=4)"
   ]
  },
  {
   "cell_type": "markdown",
   "metadata": {},
   "source": [
    "#### Generating sentences from chat bot"
   ]
  },
  {
   "cell_type": "code",
   "execution_count": 18,
   "metadata": {},
   "outputs": [
    {
     "name": "stdout",
     "output_type": "stream",
     "text": [
      "The forms of the beloved dead flit before me, and I began to ascend the mountain that overhangs it.\n",
      "None\n",
      "The image of Clerval was for ever before my eyes, and cried out in agony,\n",
      "None\n",
      "None\n",
      "None\n",
      "When I look back, it seems to me as if nothing would or could ever be known.\n",
      "None\n",
      "It advanced from behind the mountains of Jura, and the bright summit of Mont Blanc.\n",
      "Shut in, however, by ice, it was impossible to return to my retreat during that day.\n",
      "I resolved, therefore, that if my immediate union with my Elizabeth was one of horror and dismay.\n",
      "The servant instantly showed it to one of the best houses in the town.\n",
      "None\n",
      "My rage is unspeakable when I reflect that you are the cause of its excess.\n",
      "None\n",
      "I thought of Switzerland; it was far different from mine in every other respect.\n",
      "The image of Clerval was for ever before my eyes, and cried out in agony,\n",
      "None\n",
      "None\n",
      "After passing some months in London, we received a letter from you in your own handwriting.\n"
     ]
    }
   ],
   "source": [
    "for i in range(20):\n",
    "    print(frankBot.make_short_sentence(100))"
   ]
  },
  {
   "cell_type": "markdown",
   "metadata": {},
   "source": [
    "There's something pesky going on with those quotation marks, but it doesn't really impact the reading of the sentences. Feel free to play around with some of the arguments in the sentence generation. There are a variety of methods that can be called rather than just make_short_sentence. Check the markovify github repository available at https://github.com/jsvine/markovify.\n",
    "\n",
    "If any of the websites used for scraping would like this notebook to be removed, please contact me via github at https://github.com/molmatt"
   ]
  }
 ],
 "metadata": {
  "hide_input": false,
  "kernelspec": {
   "display_name": "Python 3",
   "language": "python",
   "name": "python3"
  },
  "language_info": {
   "codemirror_mode": {
    "name": "ipython",
    "version": 3
   },
   "file_extension": ".py",
   "mimetype": "text/x-python",
   "name": "python",
   "nbconvert_exporter": "python",
   "pygments_lexer": "ipython3",
   "version": "3.6.4"
  },
  "latex_envs": {
   "LaTeX_envs_menu_present": true,
   "autoclose": false,
   "autocomplete": true,
   "bibliofile": "biblio.bib",
   "cite_by": "apalike",
   "current_citInitial": 1,
   "eqLabelWithNumbers": true,
   "eqNumInitial": 1,
   "hotkeys": {
    "equation": "Ctrl-E",
    "itemize": "Ctrl-I"
   },
   "labels_anchors": false,
   "latex_user_defs": false,
   "report_style_numbering": false,
   "user_envs_cfg": false
  },
  "toc": {
   "base_numbering": 1,
   "nav_menu": {},
   "number_sections": true,
   "sideBar": true,
   "skip_h1_title": false,
   "title_cell": "Table of Contents",
   "title_sidebar": "Contents",
   "toc_cell": false,
   "toc_position": {
    "height": "calc(100% - 180px)",
    "left": "10px",
    "top": "150px",
    "width": "381px"
   },
   "toc_section_display": true,
   "toc_window_display": true
  },
  "varInspector": {
   "cols": {
    "lenName": 16,
    "lenType": 16,
    "lenVar": 40
   },
   "kernels_config": {
    "python": {
     "delete_cmd_postfix": "",
     "delete_cmd_prefix": "del ",
     "library": "var_list.py",
     "varRefreshCmd": "print(var_dic_list())"
    },
    "r": {
     "delete_cmd_postfix": ") ",
     "delete_cmd_prefix": "rm(",
     "library": "var_list.r",
     "varRefreshCmd": "cat(var_dic_list()) "
    }
   },
   "types_to_exclude": [
    "module",
    "function",
    "builtin_function_or_method",
    "instance",
    "_Feature"
   ],
   "window_display": false
  }
 },
 "nbformat": 4,
 "nbformat_minor": 2
}
